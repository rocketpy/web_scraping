{
 "cells": [
  {
   "cell_type": "code",
   "execution_count": null,
   "metadata": {},
   "outputs": [],
   "source": [
    "# Scraping\n",
    "import requests\n",
    "from lxml import html"
   ]
  },
  {
   "cell_type": "code",
   "execution_count": null,
   "metadata": {},
   "outputs": [],
   "source": [
    "url = 'https:// ... '\n",
    "\n",
    "def get_parsed_page(url):\n",
    "    response = requests.get(url)\n",
    "    parsed_page = html.fromstring(response.content)\n",
    "    return parsed_page\n",
    "\n",
    "parsed_page = get_parsed_page(url)"
   ]
  },
  {
   "cell_type": "code",
   "execution_count": null,
   "metadata": {},
   "outputs": [],
   "source": [
    "# for print website title\n",
    "\n",
    "parsed_page.xpath('//h1/a/text()')"
   ]
  },
  {
   "cell_type": "code",
   "execution_count": null,
   "metadata": {},
   "outputs": [],
   "source": [
    "# for print post names\n",
    "\n",
    "parsed_page.xpath('//h2/a/text()')"
   ]
  },
  {
   "cell_type": "code",
   "execution_count": null,
   "metadata": {},
   "outputs": [],
   "source": [
    "# Crawling - using the program to scrap multiple pages."
   ]
  },
  {
   "cell_type": "code",
   "execution_count": null,
   "metadata": {},
   "outputs": [],
   "source": [
    "# getting paragraph titles in blog posts\n",
    "\n",
    "post_urls = parsed_page.xpath('//h2//a/@href')\n",
    "\n",
    "for post_url in post_urls:\n",
    "    print('Post url:', post_url)\n",
    "    \n",
    "    parsed_post_page = get_parsed_page(post_url)\n",
    "    paragraph_titles = parsed_post_page.xpath('//h3/text()')\n",
    "    \n",
    "    paragraph_titles = map(lambda x: ' \\n  ' + x, paragraph_titles)    \n",
    "    print(''.join(paragraph_titles) + '\\n')"
   ]
  },
  {
   "cell_type": "code",
   "execution_count": null,
   "metadata": {},
   "outputs": [],
   "source": [
    "# fixed XPath query\n",
    "\n",
    "for post_url in post_urls:\n",
    "    print('Post url:', post_url)\n",
    "    \n",
    "    parsed_post_page = get_parsed_page(post_url)\n",
    "    paragraph_title_xpath = '//div[@class=\"entry-content\"]/h3/text()'\n",
    "    paragraph_titles = parsed_post_page.xpath(paragraph_title_xpath)\n",
    "    \n",
    "    paragraph_titles = map(lambda x: ' \\n  ' + x, paragraph_titles)\n",
    "    print(''.join(paragraph_titles) + '\\n')"
   ]
  }
 ],
 "metadata": {
  "kernelspec": {
   "display_name": "Python 3",
   "language": "python",
   "name": "python3"
  },
  "language_info": {
   "codemirror_mode": {
    "name": "ipython",
    "version": 3
   },
   "file_extension": ".py",
   "mimetype": "text/x-python",
   "name": "python",
   "nbconvert_exporter": "python",
   "pygments_lexer": "ipython3",
   "version": "3.6.2"
  }
 },
 "nbformat": 4,
 "nbformat_minor": 2
}
