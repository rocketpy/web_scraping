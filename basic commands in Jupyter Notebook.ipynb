{
 "cells": [
  {
   "cell_type": "code",
   "execution_count": null,
   "metadata": {},
   "outputs": [],
   "source": [
    "# show list of magic commands\n",
    "%lsmagic\n",
    "# or\n",
    "%quickref - show a documentation\n",
    "\n",
    "# show path of current working directory\n",
    "%pwd\n",
    "# or\n",
    "import os\n",
    "os.getcwd()  or  os.path.realpath('-')\n",
    "\n",
    "%pinfo  # docstring for path\n",
    "\n",
    "%psource magic.pwd  # docs for magic.pwd\n",
    "\n",
    "%psource %pwd  # docs for pwd\n",
    "\n",
    "\n",
    "%%python3  # RUN in cell Python 3 !!!\n",
    "\n",
    "import sys\n",
    "print(sys.version)  # show info "
   ]
  },
  {
   "cell_type": "code",
   "execution_count": null,
   "metadata": {},
   "outputs": [],
   "source": [
    "# hotkey to find or replace\n",
    "F\n",
    "\n",
    "%who  # list of all vars\n",
    "%whos  # same , in good vue\n",
    "\n",
    "%%html  # html input to cell"
   ]
  },
  {
   "cell_type": "code",
   "execution_count": null,
   "metadata": {},
   "outputs": [],
   "source": [
    "%page  # show some info , %page some_arg\n",
    "%env  # return a dict for enviroment\n",
    "\n",
    "env = %env\n",
    "%page env  # to show info in good vue"
   ]
  },
  {
   "cell_type": "code",
   "execution_count": null,
   "metadata": {},
   "outputs": [],
   "source": [
    "# Multi Cells  \n",
    "Shift-Up / Shift-Down\n",
    "    \n",
    "#  merge cells: \n",
    "Shift - M"
   ]
  },
  {
   "cell_type": "code",
   "execution_count": null,
   "metadata": {},
   "outputs": [],
   "source": [
    "# command palette\n",
    "Cmd-Shift-P / Ctrl-Shift-P"
   ]
  },
  {
   "cell_type": "code",
   "execution_count": null,
   "metadata": {},
   "outputs": [],
   "source": [
    "# working with files\n",
    "%mkdir test\n",
    "%cd test\n",
    "\n",
    "%load test.py\n",
    "\n",
    "%pycat test.py"
   ]
  },
  {
   "cell_type": "code",
   "execution_count": null,
   "metadata": {},
   "outputs": [],
   "source": [
    "!! ls  # list of files from cwd"
   ]
  },
  {
   "cell_type": "code",
   "execution_count": null,
   "metadata": {},
   "outputs": [],
   "source": [
    "# working with a time\n",
    "%time x = sum(range(1000))\n",
    "\n",
    "%timeit x = sum(range(1000))"
   ]
  },
  {
   "cell_type": "code",
   "execution_count": null,
   "metadata": {},
   "outputs": [],
   "source": [
    "#  for visualization and using github module\n",
    "from github import Github\n",
    "import matplotlib.pyplot as plt\n",
    "import seaborn as sas\n",
    "import pandas as pd\n",
    "%matplotlib inline\n",
    "\n",
    "GITHUB_USER = os.getenv('GITHUB_USER')\n",
    "GITHUB_TOKEN = os.getenv('GITHUB_TOKEN')\n",
    "REPO_PATH = 'python/cpython'\n",
    "\n",
    "g = Github(GITHUB_USER, GITHUB_TOKEN)\n",
    "repo = g.get_repo(REPO_PATH)\n",
    "df = pd.DataFrame()"
   ]
  }
 ],
 "metadata": {
  "kernelspec": {
   "display_name": "Python 3",
   "language": "python",
   "name": "python3"
  },
  "language_info": {
   "codemirror_mode": {
    "name": "ipython",
    "version": 3
   },
   "file_extension": ".py",
   "mimetype": "text/x-python",
   "name": "python",
   "nbconvert_exporter": "python",
   "pygments_lexer": "ipython3",
   "version": "3.6.2"
  }
 },
 "nbformat": 4,
 "nbformat_minor": 2
}
