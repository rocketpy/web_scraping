{
 "cells": [
  {
   "cell_type": "code",
   "execution_count": null,
   "metadata": {},
   "outputs": [],
   "source": [
    "import requests\n",
    "from bs4 import BeautifulSoup"
   ]
  },
  {
   "cell_type": "code",
   "execution_count": null,
   "metadata": {},
   "outputs": [],
   "source": [
    "# need use headers\n",
    "\n",
    "headers = {\n",
    "    'user-agent': ''  # add your user-agent or use random user-agent\n",
    "}"
   ]
  },
  {
   "cell_type": "code",
   "execution_count": null,
   "metadata": {},
   "outputs": [],
   "source": [
    "# open web-site , open inspector , open 'Network' make request .., take data from ''General\n",
    "login_data = {\n",
    "    'name': '',\n",
    "    'pass': '',\n",
    "    'form_id': '',\n",
    "    'op': 'Login'\n",
    "}"
   ]
  },
  {
   "cell_type": "code",
   "execution_count": null,
   "metadata": {},
   "outputs": [],
   "source": [
    "with requests.Session() as s:\n",
    "    url = \"\"  # add url of some web-site\n",
    "    r = s.get(url, headers=headers)\n",
    "    soup = BeautifulSoup(r.content, 'html5lib')  # r.text ,  'lxml'\n",
    "    login_data['form_buil_id'] = soup.find('input', attrs={'name': 'form_build_id'})['value']\n",
    "    \n",
    "    r = s.post(url, data=login_data, headers=headers)  \n",
    "    print(r.content)"
   ]
  }
 ],
 "metadata": {
  "kernelspec": {
   "display_name": "Python 3",
   "language": "python",
   "name": "python3"
  },
  "language_info": {
   "codemirror_mode": {
    "name": "ipython",
    "version": 3
   },
   "file_extension": ".py",
   "mimetype": "text/x-python",
   "name": "python",
   "nbconvert_exporter": "python",
   "pygments_lexer": "ipython3",
   "version": "3.6.2"
  }
 },
 "nbformat": 4,
 "nbformat_minor": 2
}
