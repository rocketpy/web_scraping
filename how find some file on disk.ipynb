{
 "cells": [
  {
   "cell_type": "code",
   "execution_count": null,
   "metadata": {},
   "outputs": [],
   "source": [
    "# for python 3.4+ \n",
    "\n",
    "import pathlib\n",
    " \n",
    "    \n",
    "path = pathlib.Path('my_music.mp3')\n",
    "print(path.exists()) \n",
    "# True\n",
    "print(path.is_file()) \n",
    "# True"
   ]
  },
  {
   "cell_type": "code",
   "execution_count": null,
   "metadata": {},
   "outputs": [],
   "source": [
    "# using module OS , for any python version\n",
    "\n",
    "import os.path\n",
    " \n",
    "    \n",
    "check_file = os.path.exists('storage/music.mp3') \n",
    "# True\n",
    "print(os.path.exists('some_name.txt')) \n",
    "# False\n",
    " \n",
    "# checking is some directory exist \n",
    "os.path.exists('storage') \n",
    "# True\n",
    "\n",
    "# using os.path.isfile()  for check is file or not\n",
    " \n",
    "os.path.isfile('storage/music.mp3') \n",
    "# True\n",
    "os.path.isfile('some_name.txt') \n",
    "# False\n",
    "os.path.isfile('storage')\n",
    "# False, directory exist but it's not a file !!!"
   ]
  }
 ],
 "metadata": {
  "kernelspec": {
   "display_name": "Python 3",
   "language": "python",
   "name": "python3"
  },
  "language_info": {
   "codemirror_mode": {
    "name": "ipython",
    "version": 3
   },
   "file_extension": ".py",
   "mimetype": "text/x-python",
   "name": "python",
   "nbconvert_exporter": "python",
   "pygments_lexer": "ipython3",
   "version": "3.6.2"
  }
 },
 "nbformat": 4,
 "nbformat_minor": 2
}
